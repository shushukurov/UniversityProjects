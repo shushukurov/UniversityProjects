{
 "cells": [
  {
   "cell_type": "code",
   "execution_count": 20,
   "metadata": {},
   "outputs": [],
   "source": [
    "#---------------------------------------------------------------------\n",
    "# Name: Shokhzod Shukurov %%\n",
    "# SID: 1917828 %%\n",
    "#---------------------------------------------------------------------\n",
    "#Python function to encode plain text\n",
    "def VignereEncode(PlainText, KeyWord):\n",
    "    #Encoding characters in keyword to ASCII decimal values as a list\n",
    "    KeyInts = [ord(i) for i in KeyWord]\n",
    "    #Encoding characters in plain text to ASCII decimal values as a list\n",
    "    PlainTextInts = [ord(i) for i in PlainText.upper()]\n",
    "    #Initialization of Ciphered text\n",
    "    CipheredText = ''\n",
    "    #Looping over chars and ciphering decimal values\n",
    "    for i in range(len(PlainTextInts)):\n",
    "        value = (PlainTextInts[i] + KeyInts[i % len(KeyWord)]) % 26\n",
    "    #Getting charactes of ciphered decimal values according to ASCII\n",
    "        CipheredText += chr(value + 65)\n",
    "    #Returning Encoded text\n",
    "    return CipheredText"
   ]
  },
  {
   "cell_type": "code",
   "execution_count": 21,
   "metadata": {},
   "outputs": [],
   "source": [
    "#Python function to decode ciphered text\n",
    "def VignereDecode(CipheredText, KeyWord):\n",
    "    #Encoding characters in keyword to ASCII decimal values as a list\n",
    "    KeyInts = [ord(i) for i in KeyWord]\n",
    "    #Encoding characters in ciphered text to ASCII decimal values as a list\n",
    "    CipherTextInts = [ord(i) for i in CipheredText]\n",
    "    #Initialization of Plain text\n",
    "    PlainText = ''\n",
    "    #Looping over chars and deciphering decimal values\n",
    "    for i in range(len(CipherTextInts)):\n",
    "        value = (CipherTextInts[i] - KeyInts[i % len(KeyWord)]) % 26\n",
    "    #Getting charactes of deciphered decimal values according to ASCII\n",
    "        PlainText += chr(value + 65)\n",
    "    #Returning Decoded text\n",
    "    return PlainText"
   ]
  },
  {
   "cell_type": "code",
   "execution_count": 27,
   "metadata": {},
   "outputs": [
    {
     "name": "stdout",
     "output_type": "stream",
     "text": [
      "USCCONLGYEQAWPDXH\n",
      "SORROWISKNOWLEDGE\n"
     ]
    }
   ],
   "source": [
    "#Test encryption\n",
    "plaintext = 'SORROWISKNOWLEDGE'\n",
    "keyword = 'CELLARDOOR'\n",
    "print(VignereEncode(plaintext,keyword))\n",
    "#Test decryption\n",
    "cipheredtext = 'USCCONLGYEQAWPDXH'\n",
    "print(VignereDecode(cipheredtext,keyword))"
   ]
  }
 ],
 "metadata": {
  "kernelspec": {
   "display_name": "Python 3",
   "language": "python",
   "name": "python3"
  },
  "language_info": {
   "codemirror_mode": {
    "name": "ipython",
    "version": 3
   },
   "file_extension": ".py",
   "mimetype": "text/x-python",
   "name": "python",
   "nbconvert_exporter": "python",
   "pygments_lexer": "ipython3",
   "version": "3.7.4"
  }
 },
 "nbformat": 4,
 "nbformat_minor": 2
}
