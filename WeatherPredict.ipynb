{
 "cells": [
  {
   "cell_type": "markdown",
   "metadata": {},
   "source": [
    "## This data analysis project with single variable linear regression model from sklearn"
   ]
  },
  {
   "cell_type": "code",
   "execution_count": 16,
   "metadata": {},
   "outputs": [],
   "source": [
    "# importing modules\n",
    "import numpy as np\n",
    "import pandas as pd\n",
    "import matplotlib.pyplot as plt\n",
    "import seaborn as seabornInstance \n",
    "from sklearn.model_selection import train_test_split \n",
    "from sklearn.linear_model import LinearRegression\n",
    "import statsmodels.api as sm\n",
    "%matplotlib inline"
   ]
  },
  {
   "cell_type": "code",
   "execution_count": 17,
   "metadata": {},
   "outputs": [
    {
     "name": "stderr",
     "output_type": "stream",
     "text": [
      "/opt/anaconda3/lib/python3.7/site-packages/IPython/core/interactiveshell.py:3058: DtypeWarning: Columns (7,8,18,25) have mixed types. Specify dtype option on import or set low_memory=False.\n",
      "  interactivity=interactivity, compiler=compiler, result=result)\n"
     ]
    },
    {
     "data": {
      "text/html": [
       "<div>\n",
       "<style scoped>\n",
       "    .dataframe tbody tr th:only-of-type {\n",
       "        vertical-align: middle;\n",
       "    }\n",
       "\n",
       "    .dataframe tbody tr th {\n",
       "        vertical-align: top;\n",
       "    }\n",
       "\n",
       "    .dataframe thead th {\n",
       "        text-align: right;\n",
       "    }\n",
       "</style>\n",
       "<table border=\"1\" class=\"dataframe\">\n",
       "  <thead>\n",
       "    <tr style=\"text-align: right;\">\n",
       "      <th></th>\n",
       "      <th>STA</th>\n",
       "      <th>Date</th>\n",
       "      <th>Precip</th>\n",
       "      <th>WindGustSpd</th>\n",
       "      <th>MaxTemp</th>\n",
       "      <th>MinTemp</th>\n",
       "      <th>MeanTemp</th>\n",
       "      <th>Snowfall</th>\n",
       "      <th>PoorWeather</th>\n",
       "      <th>YR</th>\n",
       "      <th>...</th>\n",
       "      <th>FB</th>\n",
       "      <th>FTI</th>\n",
       "      <th>ITH</th>\n",
       "      <th>PGT</th>\n",
       "      <th>TSHDSBRSGF</th>\n",
       "      <th>SD3</th>\n",
       "      <th>RHX</th>\n",
       "      <th>RHN</th>\n",
       "      <th>RVG</th>\n",
       "      <th>WTE</th>\n",
       "    </tr>\n",
       "  </thead>\n",
       "  <tbody>\n",
       "    <tr>\n",
       "      <td>0</td>\n",
       "      <td>10001</td>\n",
       "      <td>1942-7-1</td>\n",
       "      <td>1.016</td>\n",
       "      <td>NaN</td>\n",
       "      <td>25.555556</td>\n",
       "      <td>22.222222</td>\n",
       "      <td>23.888889</td>\n",
       "      <td>0</td>\n",
       "      <td>NaN</td>\n",
       "      <td>42</td>\n",
       "      <td>...</td>\n",
       "      <td>NaN</td>\n",
       "      <td>NaN</td>\n",
       "      <td>NaN</td>\n",
       "      <td>NaN</td>\n",
       "      <td>NaN</td>\n",
       "      <td>NaN</td>\n",
       "      <td>NaN</td>\n",
       "      <td>NaN</td>\n",
       "      <td>NaN</td>\n",
       "      <td>NaN</td>\n",
       "    </tr>\n",
       "    <tr>\n",
       "      <td>1</td>\n",
       "      <td>10001</td>\n",
       "      <td>1942-7-2</td>\n",
       "      <td>0</td>\n",
       "      <td>NaN</td>\n",
       "      <td>28.888889</td>\n",
       "      <td>21.666667</td>\n",
       "      <td>25.555556</td>\n",
       "      <td>0</td>\n",
       "      <td>NaN</td>\n",
       "      <td>42</td>\n",
       "      <td>...</td>\n",
       "      <td>NaN</td>\n",
       "      <td>NaN</td>\n",
       "      <td>NaN</td>\n",
       "      <td>NaN</td>\n",
       "      <td>NaN</td>\n",
       "      <td>NaN</td>\n",
       "      <td>NaN</td>\n",
       "      <td>NaN</td>\n",
       "      <td>NaN</td>\n",
       "      <td>NaN</td>\n",
       "    </tr>\n",
       "    <tr>\n",
       "      <td>2</td>\n",
       "      <td>10001</td>\n",
       "      <td>1942-7-3</td>\n",
       "      <td>2.54</td>\n",
       "      <td>NaN</td>\n",
       "      <td>26.111111</td>\n",
       "      <td>22.222222</td>\n",
       "      <td>24.444444</td>\n",
       "      <td>0</td>\n",
       "      <td>NaN</td>\n",
       "      <td>42</td>\n",
       "      <td>...</td>\n",
       "      <td>NaN</td>\n",
       "      <td>NaN</td>\n",
       "      <td>NaN</td>\n",
       "      <td>NaN</td>\n",
       "      <td>NaN</td>\n",
       "      <td>NaN</td>\n",
       "      <td>NaN</td>\n",
       "      <td>NaN</td>\n",
       "      <td>NaN</td>\n",
       "      <td>NaN</td>\n",
       "    </tr>\n",
       "    <tr>\n",
       "      <td>3</td>\n",
       "      <td>10001</td>\n",
       "      <td>1942-7-4</td>\n",
       "      <td>2.54</td>\n",
       "      <td>NaN</td>\n",
       "      <td>26.666667</td>\n",
       "      <td>22.222222</td>\n",
       "      <td>24.444444</td>\n",
       "      <td>0</td>\n",
       "      <td>NaN</td>\n",
       "      <td>42</td>\n",
       "      <td>...</td>\n",
       "      <td>NaN</td>\n",
       "      <td>NaN</td>\n",
       "      <td>NaN</td>\n",
       "      <td>NaN</td>\n",
       "      <td>NaN</td>\n",
       "      <td>NaN</td>\n",
       "      <td>NaN</td>\n",
       "      <td>NaN</td>\n",
       "      <td>NaN</td>\n",
       "      <td>NaN</td>\n",
       "    </tr>\n",
       "    <tr>\n",
       "      <td>4</td>\n",
       "      <td>10001</td>\n",
       "      <td>1942-7-5</td>\n",
       "      <td>0</td>\n",
       "      <td>NaN</td>\n",
       "      <td>26.666667</td>\n",
       "      <td>21.666667</td>\n",
       "      <td>24.444444</td>\n",
       "      <td>0</td>\n",
       "      <td>NaN</td>\n",
       "      <td>42</td>\n",
       "      <td>...</td>\n",
       "      <td>NaN</td>\n",
       "      <td>NaN</td>\n",
       "      <td>NaN</td>\n",
       "      <td>NaN</td>\n",
       "      <td>NaN</td>\n",
       "      <td>NaN</td>\n",
       "      <td>NaN</td>\n",
       "      <td>NaN</td>\n",
       "      <td>NaN</td>\n",
       "      <td>NaN</td>\n",
       "    </tr>\n",
       "  </tbody>\n",
       "</table>\n",
       "<p>5 rows × 31 columns</p>\n",
       "</div>"
      ],
      "text/plain": [
       "     STA      Date Precip  WindGustSpd    MaxTemp    MinTemp   MeanTemp  \\\n",
       "0  10001  1942-7-1  1.016          NaN  25.555556  22.222222  23.888889   \n",
       "1  10001  1942-7-2      0          NaN  28.888889  21.666667  25.555556   \n",
       "2  10001  1942-7-3   2.54          NaN  26.111111  22.222222  24.444444   \n",
       "3  10001  1942-7-4   2.54          NaN  26.666667  22.222222  24.444444   \n",
       "4  10001  1942-7-5      0          NaN  26.666667  21.666667  24.444444   \n",
       "\n",
       "  Snowfall PoorWeather  YR  ...  FB  FTI ITH  PGT  TSHDSBRSGF  SD3  RHX  RHN  \\\n",
       "0        0         NaN  42  ... NaN  NaN NaN  NaN         NaN  NaN  NaN  NaN   \n",
       "1        0         NaN  42  ... NaN  NaN NaN  NaN         NaN  NaN  NaN  NaN   \n",
       "2        0         NaN  42  ... NaN  NaN NaN  NaN         NaN  NaN  NaN  NaN   \n",
       "3        0         NaN  42  ... NaN  NaN NaN  NaN         NaN  NaN  NaN  NaN   \n",
       "4        0         NaN  42  ... NaN  NaN NaN  NaN         NaN  NaN  NaN  NaN   \n",
       "\n",
       "  RVG  WTE  \n",
       "0 NaN  NaN  \n",
       "1 NaN  NaN  \n",
       "2 NaN  NaN  \n",
       "3 NaN  NaN  \n",
       "4 NaN  NaN  \n",
       "\n",
       "[5 rows x 31 columns]"
      ]
     },
     "execution_count": 17,
     "metadata": {},
     "output_type": "execute_result"
    }
   ],
   "source": [
    "# importing dataset and printig first 5 rows\n",
    "df = pd.read_csv('Weather.csv')\n",
    "df.head()"
   ]
  },
  {
   "cell_type": "code",
   "execution_count": 18,
   "metadata": {},
   "outputs": [
    {
     "data": {
      "text/plain": [
       "(119040, 31)"
      ]
     },
     "execution_count": 18,
     "metadata": {},
     "output_type": "execute_result"
    }
   ],
   "source": [
    "# Number of rows and columns\n",
    "df.shape"
   ]
  },
  {
   "cell_type": "code",
   "execution_count": 19,
   "metadata": {},
   "outputs": [
    {
     "data": {
      "text/html": [
       "<div>\n",
       "<style scoped>\n",
       "    .dataframe tbody tr th:only-of-type {\n",
       "        vertical-align: middle;\n",
       "    }\n",
       "\n",
       "    .dataframe tbody tr th {\n",
       "        vertical-align: top;\n",
       "    }\n",
       "\n",
       "    .dataframe thead th {\n",
       "        text-align: right;\n",
       "    }\n",
       "</style>\n",
       "<table border=\"1\" class=\"dataframe\">\n",
       "  <thead>\n",
       "    <tr style=\"text-align: right;\">\n",
       "      <th></th>\n",
       "      <th>STA</th>\n",
       "      <th>WindGustSpd</th>\n",
       "      <th>MaxTemp</th>\n",
       "      <th>MinTemp</th>\n",
       "      <th>MeanTemp</th>\n",
       "      <th>YR</th>\n",
       "      <th>MO</th>\n",
       "      <th>DA</th>\n",
       "      <th>DR</th>\n",
       "      <th>SPD</th>\n",
       "      <th>...</th>\n",
       "      <th>FT</th>\n",
       "      <th>FB</th>\n",
       "      <th>FTI</th>\n",
       "      <th>ITH</th>\n",
       "      <th>PGT</th>\n",
       "      <th>SD3</th>\n",
       "      <th>RHX</th>\n",
       "      <th>RHN</th>\n",
       "      <th>RVG</th>\n",
       "      <th>WTE</th>\n",
       "    </tr>\n",
       "  </thead>\n",
       "  <tbody>\n",
       "    <tr>\n",
       "      <td>count</td>\n",
       "      <td>119040.000000</td>\n",
       "      <td>532.000000</td>\n",
       "      <td>119040.000000</td>\n",
       "      <td>119040.000000</td>\n",
       "      <td>119040.000000</td>\n",
       "      <td>119040.000000</td>\n",
       "      <td>119040.000000</td>\n",
       "      <td>119040.000000</td>\n",
       "      <td>533.000000</td>\n",
       "      <td>532.000000</td>\n",
       "      <td>...</td>\n",
       "      <td>0.0</td>\n",
       "      <td>0.0</td>\n",
       "      <td>0.0</td>\n",
       "      <td>0.0</td>\n",
       "      <td>525.000000</td>\n",
       "      <td>0.0</td>\n",
       "      <td>0.0</td>\n",
       "      <td>0.0</td>\n",
       "      <td>0.0</td>\n",
       "      <td>0.0</td>\n",
       "    </tr>\n",
       "    <tr>\n",
       "      <td>mean</td>\n",
       "      <td>29659.435795</td>\n",
       "      <td>37.774534</td>\n",
       "      <td>27.045111</td>\n",
       "      <td>17.789511</td>\n",
       "      <td>22.411631</td>\n",
       "      <td>43.805284</td>\n",
       "      <td>6.726016</td>\n",
       "      <td>15.797530</td>\n",
       "      <td>26.998124</td>\n",
       "      <td>20.396617</td>\n",
       "      <td>...</td>\n",
       "      <td>NaN</td>\n",
       "      <td>NaN</td>\n",
       "      <td>NaN</td>\n",
       "      <td>NaN</td>\n",
       "      <td>12.085333</td>\n",
       "      <td>NaN</td>\n",
       "      <td>NaN</td>\n",
       "      <td>NaN</td>\n",
       "      <td>NaN</td>\n",
       "      <td>NaN</td>\n",
       "    </tr>\n",
       "    <tr>\n",
       "      <td>std</td>\n",
       "      <td>20953.209402</td>\n",
       "      <td>10.297808</td>\n",
       "      <td>8.717817</td>\n",
       "      <td>8.334572</td>\n",
       "      <td>8.297982</td>\n",
       "      <td>1.136718</td>\n",
       "      <td>3.425561</td>\n",
       "      <td>8.794541</td>\n",
       "      <td>15.221732</td>\n",
       "      <td>5.560371</td>\n",
       "      <td>...</td>\n",
       "      <td>NaN</td>\n",
       "      <td>NaN</td>\n",
       "      <td>NaN</td>\n",
       "      <td>NaN</td>\n",
       "      <td>5.731328</td>\n",
       "      <td>NaN</td>\n",
       "      <td>NaN</td>\n",
       "      <td>NaN</td>\n",
       "      <td>NaN</td>\n",
       "      <td>NaN</td>\n",
       "    </tr>\n",
       "    <tr>\n",
       "      <td>min</td>\n",
       "      <td>10001.000000</td>\n",
       "      <td>18.520000</td>\n",
       "      <td>-33.333333</td>\n",
       "      <td>-38.333333</td>\n",
       "      <td>-35.555556</td>\n",
       "      <td>40.000000</td>\n",
       "      <td>1.000000</td>\n",
       "      <td>1.000000</td>\n",
       "      <td>2.000000</td>\n",
       "      <td>10.000000</td>\n",
       "      <td>...</td>\n",
       "      <td>NaN</td>\n",
       "      <td>NaN</td>\n",
       "      <td>NaN</td>\n",
       "      <td>NaN</td>\n",
       "      <td>0.000000</td>\n",
       "      <td>NaN</td>\n",
       "      <td>NaN</td>\n",
       "      <td>NaN</td>\n",
       "      <td>NaN</td>\n",
       "      <td>NaN</td>\n",
       "    </tr>\n",
       "    <tr>\n",
       "      <td>25%</td>\n",
       "      <td>11801.000000</td>\n",
       "      <td>29.632000</td>\n",
       "      <td>25.555556</td>\n",
       "      <td>15.000000</td>\n",
       "      <td>20.555556</td>\n",
       "      <td>43.000000</td>\n",
       "      <td>4.000000</td>\n",
       "      <td>8.000000</td>\n",
       "      <td>11.000000</td>\n",
       "      <td>16.000000</td>\n",
       "      <td>...</td>\n",
       "      <td>NaN</td>\n",
       "      <td>NaN</td>\n",
       "      <td>NaN</td>\n",
       "      <td>NaN</td>\n",
       "      <td>8.500000</td>\n",
       "      <td>NaN</td>\n",
       "      <td>NaN</td>\n",
       "      <td>NaN</td>\n",
       "      <td>NaN</td>\n",
       "      <td>NaN</td>\n",
       "    </tr>\n",
       "    <tr>\n",
       "      <td>50%</td>\n",
       "      <td>22508.000000</td>\n",
       "      <td>37.040000</td>\n",
       "      <td>29.444444</td>\n",
       "      <td>21.111111</td>\n",
       "      <td>25.555556</td>\n",
       "      <td>44.000000</td>\n",
       "      <td>7.000000</td>\n",
       "      <td>16.000000</td>\n",
       "      <td>32.000000</td>\n",
       "      <td>20.000000</td>\n",
       "      <td>...</td>\n",
       "      <td>NaN</td>\n",
       "      <td>NaN</td>\n",
       "      <td>NaN</td>\n",
       "      <td>NaN</td>\n",
       "      <td>11.600000</td>\n",
       "      <td>NaN</td>\n",
       "      <td>NaN</td>\n",
       "      <td>NaN</td>\n",
       "      <td>NaN</td>\n",
       "      <td>NaN</td>\n",
       "    </tr>\n",
       "    <tr>\n",
       "      <td>75%</td>\n",
       "      <td>33501.000000</td>\n",
       "      <td>43.059000</td>\n",
       "      <td>31.666667</td>\n",
       "      <td>23.333333</td>\n",
       "      <td>27.222222</td>\n",
       "      <td>45.000000</td>\n",
       "      <td>10.000000</td>\n",
       "      <td>23.000000</td>\n",
       "      <td>34.000000</td>\n",
       "      <td>23.250000</td>\n",
       "      <td>...</td>\n",
       "      <td>NaN</td>\n",
       "      <td>NaN</td>\n",
       "      <td>NaN</td>\n",
       "      <td>NaN</td>\n",
       "      <td>15.000000</td>\n",
       "      <td>NaN</td>\n",
       "      <td>NaN</td>\n",
       "      <td>NaN</td>\n",
       "      <td>NaN</td>\n",
       "      <td>NaN</td>\n",
       "    </tr>\n",
       "    <tr>\n",
       "      <td>max</td>\n",
       "      <td>82506.000000</td>\n",
       "      <td>75.932000</td>\n",
       "      <td>50.000000</td>\n",
       "      <td>34.444444</td>\n",
       "      <td>40.000000</td>\n",
       "      <td>45.000000</td>\n",
       "      <td>12.000000</td>\n",
       "      <td>31.000000</td>\n",
       "      <td>78.000000</td>\n",
       "      <td>41.000000</td>\n",
       "      <td>...</td>\n",
       "      <td>NaN</td>\n",
       "      <td>NaN</td>\n",
       "      <td>NaN</td>\n",
       "      <td>NaN</td>\n",
       "      <td>23.900000</td>\n",
       "      <td>NaN</td>\n",
       "      <td>NaN</td>\n",
       "      <td>NaN</td>\n",
       "      <td>NaN</td>\n",
       "      <td>NaN</td>\n",
       "    </tr>\n",
       "  </tbody>\n",
       "</table>\n",
       "<p>8 rows × 24 columns</p>\n",
       "</div>"
      ],
      "text/plain": [
       "                 STA  WindGustSpd        MaxTemp        MinTemp  \\\n",
       "count  119040.000000   532.000000  119040.000000  119040.000000   \n",
       "mean    29659.435795    37.774534      27.045111      17.789511   \n",
       "std     20953.209402    10.297808       8.717817       8.334572   \n",
       "min     10001.000000    18.520000     -33.333333     -38.333333   \n",
       "25%     11801.000000    29.632000      25.555556      15.000000   \n",
       "50%     22508.000000    37.040000      29.444444      21.111111   \n",
       "75%     33501.000000    43.059000      31.666667      23.333333   \n",
       "max     82506.000000    75.932000      50.000000      34.444444   \n",
       "\n",
       "            MeanTemp             YR             MO             DA          DR  \\\n",
       "count  119040.000000  119040.000000  119040.000000  119040.000000  533.000000   \n",
       "mean       22.411631      43.805284       6.726016      15.797530   26.998124   \n",
       "std         8.297982       1.136718       3.425561       8.794541   15.221732   \n",
       "min       -35.555556      40.000000       1.000000       1.000000    2.000000   \n",
       "25%        20.555556      43.000000       4.000000       8.000000   11.000000   \n",
       "50%        25.555556      44.000000       7.000000      16.000000   32.000000   \n",
       "75%        27.222222      45.000000      10.000000      23.000000   34.000000   \n",
       "max        40.000000      45.000000      12.000000      31.000000   78.000000   \n",
       "\n",
       "              SPD  ...   FT   FB  FTI  ITH         PGT  SD3  RHX  RHN  RVG  \\\n",
       "count  532.000000  ...  0.0  0.0  0.0  0.0  525.000000  0.0  0.0  0.0  0.0   \n",
       "mean    20.396617  ...  NaN  NaN  NaN  NaN   12.085333  NaN  NaN  NaN  NaN   \n",
       "std      5.560371  ...  NaN  NaN  NaN  NaN    5.731328  NaN  NaN  NaN  NaN   \n",
       "min     10.000000  ...  NaN  NaN  NaN  NaN    0.000000  NaN  NaN  NaN  NaN   \n",
       "25%     16.000000  ...  NaN  NaN  NaN  NaN    8.500000  NaN  NaN  NaN  NaN   \n",
       "50%     20.000000  ...  NaN  NaN  NaN  NaN   11.600000  NaN  NaN  NaN  NaN   \n",
       "75%     23.250000  ...  NaN  NaN  NaN  NaN   15.000000  NaN  NaN  NaN  NaN   \n",
       "max     41.000000  ...  NaN  NaN  NaN  NaN   23.900000  NaN  NaN  NaN  NaN   \n",
       "\n",
       "       WTE  \n",
       "count  0.0  \n",
       "mean   NaN  \n",
       "std    NaN  \n",
       "min    NaN  \n",
       "25%    NaN  \n",
       "50%    NaN  \n",
       "75%    NaN  \n",
       "max    NaN  \n",
       "\n",
       "[8 rows x 24 columns]"
      ]
     },
     "execution_count": 19,
     "metadata": {},
     "output_type": "execute_result"
    }
   ],
   "source": [
    "# Inspecting dataset\n",
    "df.describe()"
   ]
  },
  {
   "cell_type": "code",
   "execution_count": 20,
   "metadata": {},
   "outputs": [
    {
     "data": {
      "image/png": "[encoded data removed]",
      "text/plain": [
       "<Figure size 432x288 with 1 Axes>"
      ]
     },
     "metadata": {
      "needs_background": "light"
     },
     "output_type": "display_data"
    }
   ],
   "source": [
    "# Visual explaratory data analysis with single variable\n",
    "df.plot(x='MinTemp',y='MaxTemp',style='o')\n",
    "plt.title('Min x Max')\n",
    "plt.xlabel('Min')\n",
    "plt.ylabel('Max')\n",
    "plt.show()"
   ]
  },
  {
   "cell_type": "code",
   "execution_count": 21,
   "metadata": {},
   "outputs": [
    {
     "data": {
      "text/plain": [
       "<matplotlib.axes._subplots.AxesSubplot at 0x1c22833b10>"
      ]
     },
     "execution_count": 21,
     "metadata": {},
     "output_type": "execute_result"
    },
    {
     "data": {
      "image/png": "[encoded data removed]",
      "text/plain": [
       "<Figure size 1080x720 with 1 Axes>"
      ]
     },
     "metadata": {
      "needs_background": "light"
     },
     "output_type": "display_data"
    }
   ],
   "source": [
    "plt.figure(figsize=(15,10))\n",
    "plt.tight_layout()\n",
    "seabornInstance.distplot(df['MaxTemp'])"
   ]
  },
  {
   "cell_type": "code",
   "execution_count": 22,
   "metadata": {},
   "outputs": [],
   "source": [
    "#Preprocessing data for sklearn model\n",
    "X = df['MinTemp'].values.reshape(-1,1)\n",
    "y = df['MaxTemp'].values.reshape(-1,1)"
   ]
  },
  {
   "cell_type": "code",
   "execution_count": 23,
   "metadata": {},
   "outputs": [],
   "source": [
    "#Spliting data into training and testing sets\n",
    "X_train,X_test,y_train,y_test = train_test_split(X,y,test_size=0.2,random_state=42)"
   ]
  },
  {
   "cell_type": "code",
   "execution_count": 24,
   "metadata": {},
   "outputs": [
    {
     "data": {
      "text/plain": [
       "LinearRegression(copy_X=True, fit_intercept=True, n_jobs=None, normalize=False)"
      ]
     },
     "execution_count": 24,
     "metadata": {},
     "output_type": "execute_result"
    }
   ],
   "source": [
    "# instantiation of model\n",
    "model = LinearRegression()\n",
    "# fitting data into model\n",
    "model.fit(X_train,y_train)"
   ]
  },
  {
   "cell_type": "code",
   "execution_count": 25,
   "metadata": {},
   "outputs": [
    {
     "name": "stdout",
     "output_type": "stream",
     "text": [
      "[10.68836189]\n",
      "[[0.91888999]]\n"
     ]
    }
   ],
   "source": [
    "# Getting parameters of regression\n",
    "print(model.intercept_)\n",
    "print(model.coef_)"
   ]
  },
  {
   "cell_type": "code",
   "execution_count": 26,
   "metadata": {},
   "outputs": [],
   "source": [
    "#Testing model with testing dataset\n",
    "y_pred = model.predict(X_test)"
   ]
  },
  {
   "cell_type": "code",
   "execution_count": 27,
   "metadata": {},
   "outputs": [
    {
     "data": {
      "text/html": [
       "<div>\n",
       "<style scoped>\n",
       "    .dataframe tbody tr th:only-of-type {\n",
       "        vertical-align: middle;\n",
       "    }\n",
       "\n",
       "    .dataframe tbody tr th {\n",
       "        vertical-align: top;\n",
       "    }\n",
       "\n",
       "    .dataframe thead th {\n",
       "        text-align: right;\n",
       "    }\n",
       "</style>\n",
       "<table border=\"1\" class=\"dataframe\">\n",
       "  <thead>\n",
       "    <tr style=\"text-align: right;\">\n",
       "      <th></th>\n",
       "      <th>Actual</th>\n",
       "      <th>Predicted</th>\n",
       "    </tr>\n",
       "  </thead>\n",
       "  <tbody>\n",
       "    <tr>\n",
       "      <td>0</td>\n",
       "      <td>30.000000</td>\n",
       "      <td>27.534678</td>\n",
       "    </tr>\n",
       "    <tr>\n",
       "      <td>1</td>\n",
       "      <td>28.888889</td>\n",
       "      <td>30.087151</td>\n",
       "    </tr>\n",
       "    <tr>\n",
       "      <td>2</td>\n",
       "      <td>28.333333</td>\n",
       "      <td>30.087151</td>\n",
       "    </tr>\n",
       "    <tr>\n",
       "      <td>3</td>\n",
       "      <td>33.333333</td>\n",
       "      <td>35.192095</td>\n",
       "    </tr>\n",
       "    <tr>\n",
       "      <td>4</td>\n",
       "      <td>38.888889</td>\n",
       "      <td>35.702590</td>\n",
       "    </tr>\n",
       "  </tbody>\n",
       "</table>\n",
       "</div>"
      ],
      "text/plain": [
       "      Actual  Predicted\n",
       "0  30.000000  27.534678\n",
       "1  28.888889  30.087151\n",
       "2  28.333333  30.087151\n",
       "3  33.333333  35.192095\n",
       "4  38.888889  35.702590"
      ]
     },
     "execution_count": 27,
     "metadata": {},
     "output_type": "execute_result"
    }
   ],
   "source": [
    "#Comparing results with testing data\n",
    "res = pd.DataFrame({'Actual':y_test.flatten(),'Predicted':y_pred.flatten()})\n",
    "res.head()"
   ]
  },
  {
   "cell_type": "code",
   "execution_count": 28,
   "metadata": {},
   "outputs": [
    {
     "data": {
      "image/png": "[encoded data removed]",
      "text/plain": [
       "<Figure size 1152x720 with 1 Axes>"
      ]
     },
     "metadata": {
      "needs_background": "light"
     },
     "output_type": "display_data"
    }
   ],
   "source": [
    "# Plotting difference\n",
    "df1 = res.head(30)\n",
    "df1.plot(kind='bar',figsize=(16,10))\n",
    "plt.show()"
   ]
  },
  {
   "cell_type": "code",
   "execution_count": 29,
   "metadata": {},
   "outputs": [
    {
     "data": {
      "image/png": "[encoded data removed]",
      "text/plain": [
       "<Figure size 432x288 with 1 Axes>"
      ]
     },
     "metadata": {
      "needs_background": "light"
     },
     "output_type": "display_data"
    }
   ],
   "source": [
    "# Ploting linear function\n",
    "plt.scatter(X_test,y_test)\n",
    "plt.plot(X_test, y_pred,color='red')\n",
    "plt.show()"
   ]
  },
  {
   "cell_type": "code",
   "execution_count": 32,
   "metadata": {},
   "outputs": [
    {
     "name": "stdout",
     "output_type": "stream",
     "text": [
      "                            OLS Regression Results                            \n",
      "==============================================================================\n",
      "Dep. Variable:                MaxTemp   R-squared:                       0.772\n",
      "Model:                            OLS   Adj. R-squared:                  0.772\n",
      "Method:                 Least Squares   F-statistic:                 4.020e+05\n",
      "Date:                Sun, 19 Jan 2020   Prob (F-statistic):               0.00\n",
      "Time:                        12:29:06   Log-Likelihood:            -3.3880e+05\n",
      "No. Observations:              119040   AIC:                         6.776e+05\n",
      "Df Residuals:                  119038   BIC:                         6.776e+05\n",
      "Df Model:                           1                                         \n",
      "Covariance Type:            nonrobust                                         \n",
      "==============================================================================\n",
      "                 coef    std err          t      P>|t|      [0.025      0.975]\n",
      "------------------------------------------------------------------------------\n",
      "const         10.7006      0.028    375.909      0.000      10.645      10.756\n",
      "MinTemp        0.9188      0.001    634.073      0.000       0.916       0.922\n",
      "==============================================================================\n",
      "Omnibus:                    14290.697   Durbin-Watson:                   0.367\n",
      "Prob(Omnibus):                  0.000   Jarque-Bera (JB):            96900.519\n",
      "Skew:                           0.375   Prob(JB):                         0.00\n",
      "Kurtosis:                       7.356   Cond. No.                         46.4\n",
      "==============================================================================\n",
      "\n",
      "Warnings:\n",
      "[1] Standard Errors assume that the covariance matrix of the errors is correctly specified.\n"
     ]
    }
   ],
   "source": [
    "#Assesing model\n",
    "X = df['MinTemp']\n",
    "y = df['MaxTemp']\n",
    "X2 = sm.add_constant(X)\n",
    "est = sm.OLS(y, X2)\n",
    "est2 = est.fit()\n",
    "print(est2.summary())"
   ]
  },
  {
   "cell_type": "markdown",
   "metadata": {},
   "source": [
    "# Conclusion :"
   ]
  },
  {
   "cell_type": "markdown",
   "metadata": {},
   "source": [
    "For every one unit of change in Min temperature, the change in the Max temperature is about 0.92%."
   ]
  }
 ],
 "metadata": {
  "kernelspec": {
   "display_name": "Python 3",
   "language": "python",
   "name": "python3"
  },
  "language_info": {
   "codemirror_mode": {
    "name": "ipython",
    "version": 3
   },
   "file_extension": ".py",
   "mimetype": "text/x-python",
   "name": "python",
   "nbconvert_exporter": "python",
   "pygments_lexer": "ipython3",
   "version": "3.7.4"
  }
 },
 "nbformat": 4,
 "nbformat_minor": 2
}
