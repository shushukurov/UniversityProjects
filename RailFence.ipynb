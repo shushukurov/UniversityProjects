{
 "cells": [
  {
   "cell_type": "code",
   "execution_count": 1,
   "metadata": {},
   "outputs": [],
   "source": [
    "#---------------------------------------------------------------------\n",
    "# Name: Shokhzod Shukurov %%\n",
    "# SID: 1917828 %%\n",
    "#---------------------------------------------------------------------\n",
    "#Python function to encode plain text\n",
    "def RailFenceEncrypt(PlainText,NumOfRails):\n",
    "    #Initialization of fence\n",
    "    fence = [[] for i in range(NumOfRails)]\n",
    "    #Initialization of temporary variables to access chars in fence\n",
    "    rail = 0\n",
    "    var = 1\n",
    "    #Looping over chars and Writing text in zig-zag\n",
    "    for char in PlainText:\n",
    "        fence[rail].append(char)\n",
    "        rail += var\n",
    "    #Switching rail\n",
    "        if rail == NumOfRails-1 or rail == 0:\n",
    "            var = -var\n",
    "    #Initialization of Ciphered text\n",
    "    CipheredText = ''\n",
    "    #Reading chars in fence and saving as a string\n",
    "    for i in fence:\n",
    "        for j in i:\n",
    "            CipheredText += j\n",
    "    #Returning Encoded text\n",
    "    return CipheredText"
   ]
  },
  {
   "cell_type": "code",
   "execution_count": 2,
   "metadata": {},
   "outputs": [],
   "source": [
    "#Python function to decode ciphered text\n",
    "def RailFenceDecrypt(CipheredText,NumOfRails):\n",
    "    #Initialization of fence\n",
    "    fence = [[] for i in range(NumOfRails)]\n",
    "    #Initialization of temporary variables to access chars in fence\n",
    "    rail = 0\n",
    "    var = 1\n",
    "    #Looping over chars and placing them into fence\n",
    "    for char in CipheredText:\n",
    "        fence[rail].append(char)\n",
    "        rail += var\n",
    "    #Switching rail\n",
    "        if rail == NumOfRails-1 or rail == 0:\n",
    "            var = -var\n",
    "    #Aligning chars in fence\n",
    "    rFence = [[] for i in range(NumOfRails)]\n",
    "\n",
    "    i = 0\n",
    "    s = list(CipheredText)\n",
    "    for r in fence:\n",
    "        for j in range(len(r)):\n",
    "            rFence[i].append(s[0])\n",
    "            s.remove(s[0])\n",
    "        i += 1\n",
    "    #Reseting temporary variables to access chars in fence\n",
    "    rail = 0\n",
    "    var  = 1\n",
    "    #Initialization of Plain text\n",
    "    PlainText = ''\n",
    "    for i in range(len(CipheredText)):\n",
    "        PlainText += rFence[rail][0]\n",
    "        rFence[rail].remove(rFence[rail][0])\n",
    "        rail += var\n",
    "\n",
    "        if rail == NumOfRails-1 or rail == 0:\n",
    "            var = -var\n",
    "    #Returning Decoded text\n",
    "    return PlainText"
   ]
  },
  {
   "cell_type": "code",
   "execution_count": 8,
   "metadata": {},
   "outputs": [
    {
     "name": "stdout",
     "output_type": "stream",
     "text": [
      "DULWFTIAOORAIEEELAIGNPCYEZRONSE\n",
      "DOYOUREALIZEWEREFLOATINGINSPACE\n"
     ]
    }
   ],
   "source": [
    "PlainText = 'DOYOUREALIZEWEREFLOATINGINSPACE'\n",
    "NumOfRails = 3\n",
    "CipheredText = 'DULWFTIAOORAIEEELAIGNPCYEZRONSE'\n",
    "#Testing encryption\n",
    "print(RailFenceEncrypt(PlainText,NumOfRails))\n",
    "#Testing decryption\n",
    "print(RailFenceDecrypt(CipheredText,NumOfRails))"
   ]
  },
  {
   "cell_type": "code",
   "execution_count": null,
   "metadata": {},
   "outputs": [],
   "source": []
  },
  {
   "cell_type": "code",
   "execution_count": null,
   "metadata": {},
   "outputs": [],
   "source": []
  }
 ],
 "metadata": {
  "kernelspec": {
   "display_name": "Python 3",
   "language": "python",
   "name": "python3"
  },
  "language_info": {
   "codemirror_mode": {
    "name": "ipython",
    "version": 3
   },
   "file_extension": ".py",
   "mimetype": "text/x-python",
   "name": "python",
   "nbconvert_exporter": "python",
   "pygments_lexer": "ipython3",
   "version": "3.7.4"
  }
 },
 "nbformat": 4,
 "nbformat_minor": 2
}
