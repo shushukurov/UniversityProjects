{
 "cells": [
  {
   "cell_type": "markdown",
   "metadata": {},
   "source": [
    "# Analyse Data - Student Academics Performance Dataset\n",
    "\n",
    "\n",
    "The aim of these set of questions is to assess your level of understanding in analysing a new dataset. This first set of questionnaire provides a set of questions that you should answer to output some visualisations. "
   ]
  },
  {
   "cell_type": "code",
   "execution_count": 1,
   "metadata": {},
   "outputs": [],
   "source": [
    "%matplotlib inline\n",
    "import numpy as np\n",
    "import pandas as pd\n",
    "import matplotlib.pyplot as plt"
   ]
  },
  {
   "cell_type": "markdown",
   "metadata": {},
   "source": [
    "**1. Load the Dataset csv file (Student_Performance.csv) and count the attributes describing the data**"
   ]
  },
  {
   "cell_type": "code",
   "execution_count": 32,
   "metadata": {},
   "outputs": [
    {
     "data": {
      "text/plain": [
       "Gender                           131\n",
       "Caste                            131\n",
       "GCSE_Performance                 131\n",
       "Alevel_Performance               131\n",
       "InternalAssesment_Performance    131\n",
       "FinalExam_Performance            131\n",
       "Has_Arrears                      131\n",
       "MartialStatus                    131\n",
       "TownOrVillage                    131\n",
       "Admission_Category               131\n",
       "FamilyMonthlyIncome              131\n",
       "Family_Size                      131\n",
       "Father_Qualifications            131\n",
       "Mother_Qualifications            131\n",
       "Father_Occupation                131\n",
       "Mother_Occupation                131\n",
       "Number_of_friends                131\n",
       "Study_Hours                      131\n",
       "School_Type                      131\n",
       "Language                         131\n",
       "College_Traveltime               131\n",
       "Class_Attendance                 131\n",
       "dtype: int64"
      ]
     },
     "execution_count": 32,
     "metadata": {},
     "output_type": "execute_result"
    }
   ],
   "source": [
    "#Importing dataset and counting the number of records in Pandas series\n",
    "data = pd.read_csv('Student_Performance.csv')\n",
    "df = data.dropna(0)\n",
    "df.count()"
   ]
  },
  {
   "cell_type": "markdown",
   "metadata": {},
   "source": [
    "**2. Can you display the list of attributes?**"
   ]
  },
  {
   "cell_type": "code",
   "execution_count": 33,
   "metadata": {},
   "outputs": [
    {
     "name": "stdout",
     "output_type": "stream",
     "text": [
      "Gender\n",
      "Caste\n",
      "GCSE_Performance\n",
      "Alevel_Performance\n",
      "InternalAssesment_Performance\n",
      "FinalExam_Performance\n",
      "Has_Arrears\n",
      "MartialStatus\n",
      "TownOrVillage\n",
      "Admission_Category\n",
      "FamilyMonthlyIncome\n",
      "Family_Size\n",
      "Father_Qualifications\n",
      "Mother_Qualifications\n",
      "Father_Occupation\n",
      "Mother_Occupation\n",
      "Number_of_friends\n",
      "Study_Hours\n",
      "School_Type\n",
      "Language\n",
      "College_Traveltime\n",
      "Class_Attendance\n"
     ]
    }
   ],
   "source": [
    "#Looping over columns to get their names\n",
    "for col in df.columns:\n",
    "    print(col)"
   ]
  },
  {
   "cell_type": "markdown",
   "metadata": {},
   "source": [
    "**3. Display any 10 entries in this dataset. Explain below how you chose the entries.**"
   ]
  },
  {
   "cell_type": "code",
   "execution_count": 34,
   "metadata": {
    "scrolled": false
   },
   "outputs": [
    {
     "data": {
      "text/html": [
       "<div>\n",
       "<style scoped>\n",
       "    .dataframe tbody tr th:only-of-type {\n",
       "        vertical-align: middle;\n",
       "    }\n",
       "\n",
       "    .dataframe tbody tr th {\n",
       "        vertical-align: top;\n",
       "    }\n",
       "\n",
       "    .dataframe thead th {\n",
       "        text-align: right;\n",
       "    }\n",
       "</style>\n",
       "<table border=\"1\" class=\"dataframe\">\n",
       "  <thead>\n",
       "    <tr style=\"text-align: right;\">\n",
       "      <th></th>\n",
       "      <th>Gender</th>\n",
       "      <th>Caste</th>\n",
       "      <th>GCSE_Performance</th>\n",
       "      <th>Alevel_Performance</th>\n",
       "      <th>InternalAssesment_Performance</th>\n",
       "      <th>FinalExam_Performance</th>\n",
       "      <th>Has_Arrears</th>\n",
       "      <th>MartialStatus</th>\n",
       "      <th>TownOrVillage</th>\n",
       "      <th>Admission_Category</th>\n",
       "      <th>...</th>\n",
       "      <th>Father_Qualifications</th>\n",
       "      <th>Mother_Qualifications</th>\n",
       "      <th>Father_Occupation</th>\n",
       "      <th>Mother_Occupation</th>\n",
       "      <th>Number_of_friends</th>\n",
       "      <th>Study_Hours</th>\n",
       "      <th>School_Type</th>\n",
       "      <th>Language</th>\n",
       "      <th>College_Traveltime</th>\n",
       "      <th>Class_Attendance</th>\n",
       "    </tr>\n",
       "  </thead>\n",
       "  <tbody>\n",
       "    <tr>\n",
       "      <td>1</td>\n",
       "      <td>F</td>\n",
       "      <td>G</td>\n",
       "      <td>Good</td>\n",
       "      <td>Good</td>\n",
       "      <td>Vg</td>\n",
       "      <td>Good</td>\n",
       "      <td>Y</td>\n",
       "      <td>Unmarried</td>\n",
       "      <td>V</td>\n",
       "      <td>Paid</td>\n",
       "      <td>...</td>\n",
       "      <td>Um</td>\n",
       "      <td>10</td>\n",
       "      <td>Farmer</td>\n",
       "      <td>Housewife</td>\n",
       "      <td>Large</td>\n",
       "      <td>Poor</td>\n",
       "      <td>Govt</td>\n",
       "      <td>Asm</td>\n",
       "      <td>Small</td>\n",
       "      <td>Good</td>\n",
       "    </tr>\n",
       "    <tr>\n",
       "      <td>2</td>\n",
       "      <td>M</td>\n",
       "      <td>OBC</td>\n",
       "      <td>Vg</td>\n",
       "      <td>Vg</td>\n",
       "      <td>Vg</td>\n",
       "      <td>Vg</td>\n",
       "      <td>N</td>\n",
       "      <td>Unmarried</td>\n",
       "      <td>V</td>\n",
       "      <td>Paid</td>\n",
       "      <td>...</td>\n",
       "      <td>Um</td>\n",
       "      <td>Il</td>\n",
       "      <td>Service</td>\n",
       "      <td>Service</td>\n",
       "      <td>Small</td>\n",
       "      <td>Poor</td>\n",
       "      <td>Govt</td>\n",
       "      <td>Asm</td>\n",
       "      <td>Average</td>\n",
       "      <td>Average</td>\n",
       "    </tr>\n",
       "    <tr>\n",
       "      <td>3</td>\n",
       "      <td>F</td>\n",
       "      <td>OBC</td>\n",
       "      <td>Good</td>\n",
       "      <td>Good</td>\n",
       "      <td>Vg</td>\n",
       "      <td>Good</td>\n",
       "      <td>N</td>\n",
       "      <td>Unmarried</td>\n",
       "      <td>V</td>\n",
       "      <td>Paid</td>\n",
       "      <td>...</td>\n",
       "      <td>12</td>\n",
       "      <td>10</td>\n",
       "      <td>Service</td>\n",
       "      <td>Housewife</td>\n",
       "      <td>Average</td>\n",
       "      <td>Average</td>\n",
       "      <td>Govt</td>\n",
       "      <td>Asm</td>\n",
       "      <td>Large</td>\n",
       "      <td>Good</td>\n",
       "    </tr>\n",
       "    <tr>\n",
       "      <td>4</td>\n",
       "      <td>M</td>\n",
       "      <td>MOBC</td>\n",
       "      <td>Pass</td>\n",
       "      <td>Good</td>\n",
       "      <td>Vg</td>\n",
       "      <td>Good</td>\n",
       "      <td>N</td>\n",
       "      <td>Unmarried</td>\n",
       "      <td>V</td>\n",
       "      <td>Paid</td>\n",
       "      <td>...</td>\n",
       "      <td>12</td>\n",
       "      <td>Um</td>\n",
       "      <td>Business</td>\n",
       "      <td>Business</td>\n",
       "      <td>Large</td>\n",
       "      <td>Poor</td>\n",
       "      <td>Govt</td>\n",
       "      <td>Asm</td>\n",
       "      <td>Average</td>\n",
       "      <td>Average</td>\n",
       "    </tr>\n",
       "    <tr>\n",
       "      <td>5</td>\n",
       "      <td>M</td>\n",
       "      <td>G</td>\n",
       "      <td>Good</td>\n",
       "      <td>Good</td>\n",
       "      <td>Vg</td>\n",
       "      <td>Vg</td>\n",
       "      <td>N</td>\n",
       "      <td>Unmarried</td>\n",
       "      <td>V</td>\n",
       "      <td>Paid</td>\n",
       "      <td>...</td>\n",
       "      <td>10</td>\n",
       "      <td>12</td>\n",
       "      <td>Service</td>\n",
       "      <td>Housewife</td>\n",
       "      <td>Large</td>\n",
       "      <td>Poor</td>\n",
       "      <td>Private</td>\n",
       "      <td>Asm</td>\n",
       "      <td>Small</td>\n",
       "      <td>Good</td>\n",
       "    </tr>\n",
       "    <tr>\n",
       "      <td>6</td>\n",
       "      <td>M</td>\n",
       "      <td>OBC</td>\n",
       "      <td>Vg</td>\n",
       "      <td>Good</td>\n",
       "      <td>Vg</td>\n",
       "      <td>Vg</td>\n",
       "      <td>N</td>\n",
       "      <td>Unmarried</td>\n",
       "      <td>V</td>\n",
       "      <td>Paid</td>\n",
       "      <td>...</td>\n",
       "      <td>10</td>\n",
       "      <td>Um</td>\n",
       "      <td>Farmer</td>\n",
       "      <td>Housewife</td>\n",
       "      <td>Small</td>\n",
       "      <td>Poor</td>\n",
       "      <td>Private</td>\n",
       "      <td>Eng</td>\n",
       "      <td>Average</td>\n",
       "      <td>Average</td>\n",
       "    </tr>\n",
       "    <tr>\n",
       "      <td>7</td>\n",
       "      <td>F</td>\n",
       "      <td>OBC</td>\n",
       "      <td>Good</td>\n",
       "      <td>Vg</td>\n",
       "      <td>Good</td>\n",
       "      <td>Good</td>\n",
       "      <td>N</td>\n",
       "      <td>Unmarried</td>\n",
       "      <td>V</td>\n",
       "      <td>Paid</td>\n",
       "      <td>...</td>\n",
       "      <td>12</td>\n",
       "      <td>Degree</td>\n",
       "      <td>Service</td>\n",
       "      <td>Service</td>\n",
       "      <td>Average</td>\n",
       "      <td>Poor</td>\n",
       "      <td>Govt</td>\n",
       "      <td>Asm</td>\n",
       "      <td>Small</td>\n",
       "      <td>Good</td>\n",
       "    </tr>\n",
       "    <tr>\n",
       "      <td>8</td>\n",
       "      <td>F</td>\n",
       "      <td>OBC</td>\n",
       "      <td>Good</td>\n",
       "      <td>Good</td>\n",
       "      <td>Good</td>\n",
       "      <td>Good</td>\n",
       "      <td>N</td>\n",
       "      <td>Unmarried</td>\n",
       "      <td>V</td>\n",
       "      <td>Paid</td>\n",
       "      <td>...</td>\n",
       "      <td>Il</td>\n",
       "      <td>Um</td>\n",
       "      <td>Farmer</td>\n",
       "      <td>Housewife</td>\n",
       "      <td>Small</td>\n",
       "      <td>Poor</td>\n",
       "      <td>Private</td>\n",
       "      <td>Asm</td>\n",
       "      <td>Average</td>\n",
       "      <td>Good</td>\n",
       "    </tr>\n",
       "    <tr>\n",
       "      <td>9</td>\n",
       "      <td>F</td>\n",
       "      <td>MOBC</td>\n",
       "      <td>Vg</td>\n",
       "      <td>Good</td>\n",
       "      <td>Good</td>\n",
       "      <td>Vg</td>\n",
       "      <td>Y</td>\n",
       "      <td>Unmarried</td>\n",
       "      <td>V</td>\n",
       "      <td>Paid</td>\n",
       "      <td>...</td>\n",
       "      <td>12</td>\n",
       "      <td>10</td>\n",
       "      <td>Others</td>\n",
       "      <td>Housewife</td>\n",
       "      <td>Small</td>\n",
       "      <td>Good</td>\n",
       "      <td>Govt</td>\n",
       "      <td>Asm</td>\n",
       "      <td>Average</td>\n",
       "      <td>Good</td>\n",
       "    </tr>\n",
       "    <tr>\n",
       "      <td>10</td>\n",
       "      <td>F</td>\n",
       "      <td>OBC</td>\n",
       "      <td>Vg</td>\n",
       "      <td>Vg</td>\n",
       "      <td>Good</td>\n",
       "      <td>Vg</td>\n",
       "      <td>Y</td>\n",
       "      <td>Unmarried</td>\n",
       "      <td>V</td>\n",
       "      <td>Paid</td>\n",
       "      <td>...</td>\n",
       "      <td>Degree</td>\n",
       "      <td>Degree</td>\n",
       "      <td>Others</td>\n",
       "      <td>Housewife</td>\n",
       "      <td>Large</td>\n",
       "      <td>Average</td>\n",
       "      <td>Govt</td>\n",
       "      <td>Asm</td>\n",
       "      <td>Average</td>\n",
       "      <td>Good</td>\n",
       "    </tr>\n",
       "  </tbody>\n",
       "</table>\n",
       "<p>10 rows × 22 columns</p>\n",
       "</div>"
      ],
      "text/plain": [
       "   Gender Caste GCSE_Performance Alevel_Performance  \\\n",
       "1       F     G             Good               Good   \n",
       "2       M   OBC               Vg                 Vg   \n",
       "3       F   OBC             Good               Good   \n",
       "4       M  MOBC             Pass               Good   \n",
       "5       M     G             Good               Good   \n",
       "6       M   OBC               Vg               Good   \n",
       "7       F   OBC             Good                 Vg   \n",
       "8       F   OBC             Good               Good   \n",
       "9       F  MOBC               Vg               Good   \n",
       "10      F   OBC               Vg                 Vg   \n",
       "\n",
       "   InternalAssesment_Performance FinalExam_Performance Has_Arrears  \\\n",
       "1                             Vg                  Good           Y   \n",
       "2                             Vg                    Vg           N   \n",
       "3                             Vg                  Good           N   \n",
       "4                             Vg                  Good           N   \n",
       "5                             Vg                    Vg           N   \n",
       "6                             Vg                    Vg           N   \n",
       "7                           Good                  Good           N   \n",
       "8                           Good                  Good           N   \n",
       "9                           Good                    Vg           Y   \n",
       "10                          Good                    Vg           Y   \n",
       "\n",
       "   MartialStatus TownOrVillage Admission_Category  ... Father_Qualifications  \\\n",
       "1      Unmarried             V               Paid  ...                    Um   \n",
       "2      Unmarried             V               Paid  ...                    Um   \n",
       "3      Unmarried             V               Paid  ...                    12   \n",
       "4      Unmarried             V               Paid  ...                    12   \n",
       "5      Unmarried             V               Paid  ...                    10   \n",
       "6      Unmarried             V               Paid  ...                    10   \n",
       "7      Unmarried             V               Paid  ...                    12   \n",
       "8      Unmarried             V               Paid  ...                    Il   \n",
       "9      Unmarried             V               Paid  ...                    12   \n",
       "10     Unmarried             V               Paid  ...                Degree   \n",
       "\n",
       "   Mother_Qualifications Father_Occupation Mother_Occupation  \\\n",
       "1                     10            Farmer         Housewife   \n",
       "2                     Il           Service           Service   \n",
       "3                     10           Service         Housewife   \n",
       "4                     Um          Business          Business   \n",
       "5                     12           Service         Housewife   \n",
       "6                     Um            Farmer         Housewife   \n",
       "7                 Degree           Service           Service   \n",
       "8                     Um            Farmer         Housewife   \n",
       "9                     10            Others         Housewife   \n",
       "10                Degree            Others         Housewife   \n",
       "\n",
       "   Number_of_friends Study_Hours School_Type Language College_Traveltime  \\\n",
       "1              Large        Poor        Govt      Asm              Small   \n",
       "2              Small        Poor        Govt      Asm            Average   \n",
       "3            Average     Average        Govt      Asm              Large   \n",
       "4              Large        Poor        Govt      Asm            Average   \n",
       "5              Large        Poor     Private      Asm              Small   \n",
       "6              Small        Poor     Private      Eng            Average   \n",
       "7            Average        Poor        Govt      Asm              Small   \n",
       "8              Small        Poor     Private      Asm            Average   \n",
       "9              Small        Good        Govt      Asm            Average   \n",
       "10             Large     Average        Govt      Asm            Average   \n",
       "\n",
       "   Class_Attendance  \n",
       "1              Good  \n",
       "2           Average  \n",
       "3              Good  \n",
       "4           Average  \n",
       "5              Good  \n",
       "6           Average  \n",
       "7              Good  \n",
       "8              Good  \n",
       "9              Good  \n",
       "10             Good  \n",
       "\n",
       "[10 rows x 22 columns]"
      ]
     },
     "execution_count": 34,
     "metadata": {},
     "output_type": "execute_result"
    }
   ],
   "source": [
    "#Selecting first 10 raws by applying head() method\n",
    "df.head(10)"
   ]
  },
  {
   "cell_type": "markdown",
   "metadata": {},
   "source": [
    "**4. Find the total number of enteries in the system.**"
   ]
  },
  {
   "cell_type": "code",
   "execution_count": 35,
   "metadata": {},
   "outputs": [
    {
     "data": {
      "text/plain": [
       "131"
      ]
     },
     "execution_count": 35,
     "metadata": {},
     "output_type": "execute_result"
    }
   ],
   "source": [
    "#Defining the number of entries by defining the length of dataframe \n",
    "df.shape[0]"
   ]
  },
  {
   "cell_type": "markdown",
   "metadata": {},
   "source": [
    "**5. Find the number of Male and Female students.**"
   ]
  },
  {
   "cell_type": "code",
   "execution_count": 36,
   "metadata": {},
   "outputs": [
    {
     "data": {
      "text/plain": [
       "M    72\n",
       "F    59\n",
       "Name: Gender, dtype: int64"
      ]
     },
     "execution_count": 36,
     "metadata": {},
     "output_type": "execute_result"
    }
   ],
   "source": [
    "#Finding number of Male and Female students by applying value_counts() method\n",
    "df['Gender'].value_counts()"
   ]
  },
  {
   "cell_type": "markdown",
   "metadata": {},
   "source": [
    "**6. How did the students perform in their Final exams?**"
   ]
  },
  {
   "cell_type": "code",
   "execution_count": 37,
   "metadata": {
    "scrolled": true
   },
   "outputs": [
    {
     "data": {
      "text/plain": [
       "Good    54\n",
       "Vg      42\n",
       "Pass    27\n",
       "Best     8\n",
       "Name: FinalExam_Performance, dtype: int64"
      ]
     },
     "execution_count": 37,
     "metadata": {},
     "output_type": "execute_result"
    }
   ],
   "source": [
    "#Finding student's Final exams performance by applying value_counts() method\n",
    "df['FinalExam_Performance'].value_counts()"
   ]
  },
  {
   "cell_type": "markdown",
   "metadata": {},
   "source": [
    "**7. What is the qualification for majority of the Fathers?**"
   ]
  },
  {
   "cell_type": "code",
   "execution_count": 38,
   "metadata": {},
   "outputs": [
    {
     "data": {
      "text/plain": [
       "'Um'"
      ]
     },
     "execution_count": 38,
     "metadata": {},
     "output_type": "execute_result"
    }
   ],
   "source": [
    "#Finding the most popular qualification among fathers applying the chain of methods such as 1)value_counts(), 2)idxmax()\n",
    "df.Father_Qualifications.value_counts().idxmax()"
   ]
  },
  {
   "cell_type": "raw",
   "metadata": {},
   "source": [
    "# 8. What is the least favourite occupation among the Mothers of the students?"
   ]
  },
  {
   "cell_type": "code",
   "execution_count": 39,
   "metadata": {
    "scrolled": true
   },
   "outputs": [
    {
     "data": {
      "text/plain": [
       "'Retired'"
      ]
     },
     "execution_count": 39,
     "metadata": {},
     "output_type": "execute_result"
    }
   ],
   "source": [
    "#Finding the least popular occupation among mothers applying the chain of methods such as 1)value_counts(), 2)idxmin()\n",
    "df.Mother_Occupation.value_counts().idxmin()"
   ]
  },
  {
   "cell_type": "markdown",
   "metadata": {},
   "source": [
    "**9. Find the number of students who performed consistently in their internal assesment and final exams?**"
   ]
  },
  {
   "cell_type": "code",
   "execution_count": 40,
   "metadata": {
    "scrolled": true
   },
   "outputs": [
    {
     "data": {
      "text/plain": [
       "70"
      ]
     },
     "execution_count": 40,
     "metadata": {},
     "output_type": "execute_result"
    }
   ],
   "source": [
    "#Finding the number of students who have same results in Internal Assesment and Final Exams\n",
    "#by Aplying len() Function and index() method\n",
    "len(df[df.FinalExam_Performance==df.InternalAssesment_Performance].index)"
   ]
  },
  {
   "cell_type": "markdown",
   "metadata": {},
   "source": [
    "**10. Find the number of students who performed consistently in all their academics?**\n",
    "   "
   ]
  },
  {
   "cell_type": "code",
   "execution_count": 41,
   "metadata": {},
   "outputs": [
    {
     "data": {
      "text/plain": [
       "33"
      ]
     },
     "execution_count": 41,
     "metadata": {},
     "output_type": "execute_result"
    }
   ],
   "source": [
    "#Finding the number of students who have same results in all exams\n",
    "#by Aplying len() Function and index() method\n",
    "a = df[(df.FinalExam_Performance==df.InternalAssesment_Performance) & (df.FinalExam_Performance==df.Alevel_Performance)& (df.FinalExam_Performance==df.GCSE_Performance)]\n",
    "len(a.index)"
   ]
  },
  {
   "cell_type": "markdown",
   "metadata": {},
   "source": [
    " **11. How many are top performing students among these?**"
   ]
  },
  {
   "cell_type": "code",
   "execution_count": 42,
   "metadata": {},
   "outputs": [
    {
     "data": {
      "text/plain": [
       "1"
      ]
     },
     "execution_count": 42,
     "metadata": {},
     "output_type": "execute_result"
    }
   ],
   "source": [
    "#Finding the number of students who have same BEST results in all exams\n",
    "len(a[a.GCSE_Performance == 'Best'].index)"
   ]
  },
  {
   "cell_type": "markdown",
   "metadata": {},
   "source": [
    "## Visuallize different aspects of the data! "
   ]
  },
  {
   "cell_type": "markdown",
   "metadata": {},
   "source": [
    "  **12. Plot bar graph to show the distribution of students from locations (Town and Village), with different Languages, different School types.**"
   ]
  },
  {
   "cell_type": "code",
   "execution_count": 43,
   "metadata": {
    "scrolled": true
   },
   "outputs": [
    {
     "data": {
      "text/plain": [
       "Text(0.5, 1.0, 'School type distribution')"
      ]
     },
     "execution_count": 43,
     "metadata": {},
     "output_type": "execute_result"
    },
    {
     "data": {
      "image/png": "[encoded data removed]",
      "text/plain": [
       "<Figure size 432x288 with 1 Axes>"
      ]
     },
     "metadata": {
      "needs_background": "light"
     },
     "output_type": "display_data"
    },
    {
     "data": {
      "image/png": "[encoded data removed]",
      "text/plain": [
       "<Figure size 432x288 with 1 Axes>"
      ]
     },
     "metadata": {
      "needs_background": "light"
     },
     "output_type": "display_data"
    },
    {
     "data": {
      "image/png": "[encoded data removed]",
      "text/plain": [
       "<Figure size 432x288 with 1 Axes>"
      ]
     },
     "metadata": {
      "needs_background": "light"
     },
     "output_type": "display_data"
    }
   ],
   "source": [
    "#Plotting graphs showing different distributions\n",
    "plt.subplots(1,1)\n",
    "plt.hist(df.TownOrVillage,bins=2, ec='k')\n",
    "plt.title(\"Location distribution\")\n",
    "plt.subplots(1,1)\n",
    "plt.hist(df.Language,bins=4, ec='k')\n",
    "plt.title(\"Language distribution \")\n",
    "plt.subplots(1,1)\n",
    "plt.hist(df.School_Type,bins=2, ec='k')\n",
    "plt.title(\"School type distribution\")"
   ]
  },
  {
   "cell_type": "markdown",
   "metadata": {},
   "source": [
    "**13. Find and plot distribution of student performance among town and Village students.**"
   ]
  },
  {
   "cell_type": "code",
   "execution_count": 44,
   "metadata": {},
   "outputs": [
    {
     "data": {
      "text/plain": [
       "Text(0.5, 1.0, 'Village')"
      ]
     },
     "execution_count": 44,
     "metadata": {},
     "output_type": "execute_result"
    },
    {
     "data": {
      "image/png": "[encoded data removed]",
      "text/plain": [
       "<Figure size 432x288 with 1 Axes>"
      ]
     },
     "metadata": {
      "needs_background": "light"
     },
     "output_type": "display_data"
    },
    {
     "data": {
      "image/png": "[encoded data removed]",
      "text/plain": [
       "<Figure size 432x288 with 1 Axes>"
      ]
     },
     "metadata": {
      "needs_background": "light"
     },
     "output_type": "display_data"
    }
   ],
   "source": [
    "#Plotting the graph showing performance distribution \n",
    "v = df.FinalExam_Performance[df.TownOrVillage == 'V']\n",
    "t = df.FinalExam_Performance[df.TownOrVillage == 'T']\n",
    "plt.subplots(1,1)\n",
    "plt.hist(t,bins=4, ec='k')\n",
    "plt.xlabel('Final result')\n",
    "plt.ylabel('Number of students')\n",
    "plt.title(\"Town\")\n",
    "plt.subplots(1,1)\n",
    "plt.hist(v,bins=4, ec='k')\n",
    "plt.xlabel('Final result')\n",
    "plt.ylabel('Number of students')\n",
    "plt.title(\"Village\")\n"
   ]
  },
  {
   "cell_type": "markdown",
   "metadata": {},
   "source": [
    "**14. Find and plot distribution of student performance based on the type of study hours invested.**"
   ]
  },
  {
   "cell_type": "code",
   "execution_count": 45,
   "metadata": {},
   "outputs": [
    {
     "data": {
      "text/plain": [
       "Text(0.5, 1.0, 'Good study hours')"
      ]
     },
     "execution_count": 45,
     "metadata": {},
     "output_type": "execute_result"
    },
    {
     "data": {
      "image/png": "[encoded data removed]",
      "text/plain": [
       "<Figure size 432x288 with 1 Axes>"
      ]
     },
     "metadata": {
      "needs_background": "light"
     },
     "output_type": "display_data"
    },
    {
     "data": {
      "image/png": "[encoded data removed]",
      "text/plain": [
       "<Figure size 432x288 with 1 Axes>"
      ]
     },
     "metadata": {
      "needs_background": "light"
     },
     "output_type": "display_data"
    },
    {
     "data": {
      "image/png": "[encoded data removed]",
      "text/plain": [
       "<Figure size 432x288 with 1 Axes>"
      ]
     },
     "metadata": {
      "needs_background": "light"
     },
     "output_type": "display_data"
    }
   ],
   "source": [
    "poor = df.FinalExam_Performance[df.Study_Hours == 'Poor']\n",
    "average = df.FinalExam_Performance[df.Study_Hours == 'Average']\n",
    "good = df.FinalExam_Performance[df.Study_Hours == 'Good']\n",
    "plt.subplots(1,1)\n",
    "plt.hist(poor,bins=3, ec='k')\n",
    "plt.xlabel('Final result')\n",
    "plt.ylabel('Number of students')\n",
    "plt.title(\"Poor study hours\")\n",
    "plt.subplots(1,1)\n",
    "plt.hist(average,bins=3, ec='k')\n",
    "plt.xlabel('Final result')\n",
    "plt.ylabel('Number of students')\n",
    "plt.title(\"Average study hours\")\n",
    "plt.subplots(1,1)\n",
    "plt.hist(good,bins=3, ec='k')\n",
    "plt.xlabel('Final result')\n",
    "plt.ylabel('Number of students')\n",
    "plt.title(\"Good study hours\")"
   ]
  },
  {
   "cell_type": "markdown",
   "metadata": {},
   "source": [
    "**15. Plot a simple plot for the travel time distribution of the students.**"
   ]
  },
  {
   "cell_type": "code",
   "execution_count": 46,
   "metadata": {},
   "outputs": [
    {
     "data": {
      "text/plain": [
       "Text(0.5, 1.0, 'Travel time distribution')"
      ]
     },
     "execution_count": 46,
     "metadata": {},
     "output_type": "execute_result"
    },
    {
     "data": {
      "image/png": "[encoded data removed]",
      "text/plain": [
       "<Figure size 432x288 with 1 Axes>"
      ]
     },
     "metadata": {
      "needs_background": "light"
     },
     "output_type": "display_data"
    }
   ],
   "source": [
    "plt.hist(df.FinalExam_Performance)\n",
    "plt.xlabel('Travel time')\n",
    "plt.ylabel('Number of students')\n",
    "plt.title(\"Travel time distribution\")"
   ]
  },
  {
   "cell_type": "markdown",
   "metadata": {},
   "source": [
    "16. Find the relation plotted as line and bar graph of the College_Traveltime to Class_Attendance."
   ]
  },
  {
   "cell_type": "code",
   "execution_count": 47,
   "metadata": {},
   "outputs": [
    {
     "data": {
      "text/plain": [
       "<matplotlib.axes._subplots.AxesSubplot at 0x117350ed0>"
      ]
     },
     "execution_count": 47,
     "metadata": {},
     "output_type": "execute_result"
    },
    {
     "data": {
      "image/png": "[encoded data removed]",
      "text/plain": [
       "<Figure size 432x288 with 1 Axes>"
      ]
     },
     "metadata": {
      "needs_background": "light"
     },
     "output_type": "display_data"
    }
   ],
   "source": [
    "df.groupby(\"College_Traveltime\")['Class_Attendance'].count().plot.bar()\n"
   ]
  },
  {
   "cell_type": "markdown",
   "metadata": {},
   "source": [
    "17. Plot the distribution of family Income."
   ]
  },
  {
   "cell_type": "code",
   "execution_count": 48,
   "metadata": {},
   "outputs": [
    {
     "data": {
      "text/plain": [
       "Text(0.5, 1.0, 'Income distribution')"
      ]
     },
     "execution_count": 48,
     "metadata": {},
     "output_type": "execute_result"
    },
    {
     "data": {
      "image/png": "[encoded data removed]",
      "text/plain": [
       "<Figure size 432x288 with 1 Axes>"
      ]
     },
     "metadata": {
      "needs_background": "light"
     },
     "output_type": "display_data"
    }
   ],
   "source": [
    "plt.hist(df.FamilyMonthlyIncome,bins=5, ec='k')\n",
    "plt.xlabel('Income distribution')\n",
    "plt.ylabel('Number of students')\n",
    "plt.title(\"Income distribution\")"
   ]
  },
  {
   "cell_type": "markdown",
   "metadata": {},
   "source": [
    "***18. Find the relation of the FamilyMonthlyIncome to Family_Size plotted as a bar graph. Fill in the missing data with zeros and later with non-zeros for a bar plot***"
   ]
  },
  {
   "cell_type": "code",
   "execution_count": 49,
   "metadata": {},
   "outputs": [
    {
     "data": {
      "text/plain": [
       "Text(0.5, 1.0, 'Income distribution')"
      ]
     },
     "execution_count": 49,
     "metadata": {},
     "output_type": "execute_result"
    },
    {
     "data": {
      "image/png": "[encoded data removed]",
      "text/plain": [
       "<Figure size 432x288 with 1 Axes>"
      ]
     },
     "metadata": {
      "needs_background": "light"
     },
     "output_type": "display_data"
    }
   ],
   "source": [
    "plt.bar(df.FamilyMonthlyIncome,df.Family_Size, ec='k')\n",
    "plt.xlabel('Income distribution')\n",
    "plt.ylabel('Family size')\n",
    "plt.title(\"Income distribution\")"
   ]
  },
  {
   "cell_type": "markdown",
   "metadata": {},
   "source": [
    "***19.Can you plot one or more Stacked bar plots like combining number of friends with the Study Hours? Hint: you may have to map these to have same numerical values. Sample graph shown below.***"
   ]
  },
  {
   "cell_type": "code",
   "execution_count": 21,
   "metadata": {},
   "outputs": [],
   "source": [
    "n = np.arange(len(df.Number_of_friends))\n",
    "l = df.Number_of_friends[df.Number_of_friends=='Large'].count()\n"
   ]
  },
  {
   "cell_type": "code",
   "execution_count": null,
   "metadata": {
    "scrolled": true
   },
   "outputs": [],
   "source": []
  },
  {
   "cell_type": "markdown",
   "metadata": {},
   "source": [
    "## Some more observations on the data! "
   ]
  },
  {
   "cell_type": "markdown",
   "metadata": {},
   "source": [
    "***20. Present examples of data analytics problems that can be addressed with this data. Explain in detail how the data leads to these conclusions. Do you have any prescriptive measures to propose for identified problems?***\n",
    "\n",
    "\n",
    "***(Answer in not more than 500 words.)***"
   ]
  },
  {
   "cell_type": "markdown",
   "metadata": {},
   "source": []
  },
  {
   "cell_type": "markdown",
   "metadata": {},
   "source": [
    "Data analysis is used to evaluate data with statistical tools to discover useful information. A variety of methods are used for this purpose, including data mining, text analytics, business intelligence, combining data sets, and data visualization."
   ]
  }
 ],
 "metadata": {
  "kernelspec": {
   "display_name": "Python 3",
   "language": "python",
   "name": "python3"
  },
  "language_info": {
   "codemirror_mode": {
    "name": "ipython",
    "version": 3
   },
   "file_extension": ".py",
   "mimetype": "text/x-python",
   "name": "python",
   "nbconvert_exporter": "python",
   "pygments_lexer": "ipython3",
   "version": "3.7.4"
  }
 },
 "nbformat": 4,
 "nbformat_minor": 2
}
